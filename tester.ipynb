{
 "cells": [
  {
   "cell_type": "code",
   "execution_count": null,
   "metadata": {},
   "outputs": [],
   "source": [
    "import serial\n",
    "import threading\n",
    "import os"
   ]
  },
  {
   "cell_type": "code",
   "execution_count": null,
   "metadata": {},
   "outputs": [],
   "source": [
    "#TODO: Change COM to the correct number (can be found in device manager)\n",
    "\n",
    "ser = serial.Serial(\"COM\", 9600, timeout=0.5)"
   ]
  },
  {
   "cell_type": "code",
   "execution_count": 10,
   "metadata": {},
   "outputs": [],
   "source": [
    "# save data method\n",
    "def saveData(data, Testnum):\n",
    "    with open(f'test{Testnum}.txt', \"w\") as f:\n",
    "        # this works if it is in hex with or without leading 0x\n",
    "        binary = bin(int(data, base=16))[2:]\n",
    "        f.write(binary)\n",
    "\n",
    "def saveBytes(bytes, Testnum):\n",
    "    with open(f'bytes{Testnum}.txt', \"w\") as f:\n",
    "        # this works if it is in hex with or without leading 0x\n",
    "        f.write(bytes)"
   ]
  },
  {
   "cell_type": "code",
   "execution_count": null,
   "metadata": {},
   "outputs": [],
   "source": [
    "#one of these should work\n",
    "\n",
    "always = b\"0x4000000F4B034D0001\"\n",
    "data = b\"00000000\"\n",
    "reserve = b\"0070\"\n",
    "checkSum = b\"015B\"\n",
    "always2 = b\"2A0D\"\n",
    "\n",
    "message = b\"0x4000000F4B034D0001000000000070015B2A0D\\r\\n\"\n",
    "\n",
    "ser.write(message)\n",
    "data = ser.read_until(b'\\r')\n",
    "\n",
    "print(data)\n",
    "print(type(data))"
   ]
  },
  {
   "cell_type": "code",
   "execution_count": null,
   "metadata": {},
   "outputs": [],
   "source": [
    "#one of these should work\n",
    "\n",
    "always = b\"0x4000000F4B034D0001\"\n",
    "data = b\"00000000\"\n",
    "reserve = b\"0070\"\n",
    "checkSum = b\"015B\"\n",
    "always2 = b\"2A0D\"\n",
    "\n",
    "message = b\"4000000F4B034D0001000000000070015B2A0D\\r\\n\"\n",
    "\n",
    "ser.write(message)\n",
    "data = ser.read_until(b'\\r')\n",
    "\n",
    "print(data)\n",
    "print(type(data))"
   ]
  },
  {
   "cell_type": "code",
   "execution_count": null,
   "metadata": {},
   "outputs": [],
   "source": [
    "# test 1 \n",
    "# all zeros\n",
    "always = b\"0x4000000F4B034D0001\"\n",
    "# sum 00EB\n",
    "data = b\"00000000\"\n",
    "reserve = b\"0000\"\n",
    "checkSum = b\"00EB\"\n",
    "always2 = b\"2A0D\"\n",
    "\n",
    "message = b\"4000000F4B034D000100000000000000EB2A0D\\r\\n\"\n",
    "\n",
    "ser.write(message)\n",
    "data = ser.read_until(b'\\r')\n",
    "\n",
    "saveData(data, 1)"
   ]
  },
  {
   "cell_type": "code",
   "execution_count": null,
   "metadata": {},
   "outputs": [],
   "source": [
    "# test 2\n",
    "# echo back only\n",
    "always = b\"0x4000000F4B034D0001\"\n",
    "# sum 00EB\n",
    "data = b\"00000000\"\n",
    "reserve = b\"0070\"\n",
    "# sum 015B\n",
    "checkSum = b\"015B\"\n",
    "always2 = b\"2A0D\"\n",
    "\n",
    "message = b\"4000000F4B034D0001000000000070015B2A0D\\r\\n\"\n",
    "\n",
    "ser.write(message)\n",
    "data = ser.read_until(b'\\r')\n",
    "\n",
    "saveData(data, 2)"
   ]
  },
  {
   "cell_type": "code",
   "execution_count": null,
   "metadata": {},
   "outputs": [],
   "source": [
    "# test 3\n",
    "# optitional data only\n",
    "always = b\"0x4000000F4B034D0001\"\n",
    "# sum 00EB\n",
    "data = b\"FFFFFFFF\"\n",
    "reserve = b\"0000\"\n",
    "# sum 04E7\n",
    "checkSum = b\"04E7\"\n",
    "always2 = b\"2A0D\"\n",
    "\n",
    "message = b\"4000000F4B034D0001FFFFFFFF000004E72A0D\\r\\n\"\n",
    "\n",
    "ser.write(message)\n",
    "data = ser.read_until(b'\\r')\n",
    "saveData(data, 3)"
   ]
  },
  {
   "cell_type": "code",
   "execution_count": null,
   "metadata": {},
   "outputs": [],
   "source": [
    "# test 4\n",
    "# optitional data and echo back\n",
    "always = b\"0x4000000F4B034D0001\"\n",
    "# sum 00EB\n",
    "data = b\"FFFFFFFF\"\n",
    "reserve = b\"0070\"\n",
    "# sum 0557\n",
    "checkSum = b\"0557\"\n",
    "always2 = b\"2A0D\"\n",
    "\n",
    "message = b\"4000000F4B034D0001FFFFFFFF007005572A0D\\r\\n\"\n",
    "\n",
    "ser.write(message)\n",
    "data = ser.read_until(b'\\r')\n",
    "\n",
    "saveData(data, 4)"
   ]
  },
  {
   "cell_type": "code",
   "execution_count": 14,
   "metadata": {},
   "outputs": [],
   "source": [
    "saveData(b'0x12f', 0)"
   ]
  },
  {
   "cell_type": "code",
   "execution_count": 6,
   "metadata": {},
   "outputs": [
    {
     "data": {
      "text/plain": [
       "'1111'"
      ]
     },
     "execution_count": 6,
     "metadata": {},
     "output_type": "execute_result"
    }
   ],
   "source": [
    "bin(int('0xf', base=16))[2:]"
   ]
  }
 ],
 "metadata": {
  "kernelspec": {
   "display_name": "Python 3",
   "language": "python",
   "name": "python3"
  },
  "language_info": {
   "codemirror_mode": {
    "name": "ipython",
    "version": 3
   },
   "file_extension": ".py",
   "mimetype": "text/x-python",
   "name": "python",
   "nbconvert_exporter": "python",
   "pygments_lexer": "ipython3",
   "version": "3.12.4"
  }
 },
 "nbformat": 4,
 "nbformat_minor": 2
}
